{
  "cells": [
    {
      "cell_type": "markdown",
      "id": "e47bb501-2a62-4b11-943e-891a8f8e6443",
      "metadata": {
        "id": "e47bb501-2a62-4b11-943e-891a8f8e6443"
      },
      "source": [
        "# **Implementación de un modelo de deep learning**\n",
        "*Author: Myroslava Sánchez Andrade*\n",
        "<br>*Creation date: 05/10/2022*\n",
        "<br>*Last updated:*"
      ]
    },
    {
      "cell_type": "markdown",
      "id": "b3fc56c2-b778-4c01-9dcf-fc3051bee59c",
      "metadata": {
        "id": "b3fc56c2-b778-4c01-9dcf-fc3051bee59c"
      },
      "source": [
        "---\n",
        "## **Extract**\n",
        "\n",
        "The dataset used for this project is **[Kuzushiji-49](https://github.com/rois-codh/kmnist)**, downloaded from a GitHub repository. It contains 270,912 images (28x28 grayscale) that contains a total of 49 classes, 48 Hiragana characters and one Hiragana iteration mark (imbalanced dataset)."
      ]
    },
    {
      "cell_type": "code",
      "execution_count": null,
      "id": "075e7664-8a8b-413e-95a3-5ff963c43e4d",
      "metadata": {
        "id": "075e7664-8a8b-413e-95a3-5ff963c43e4d"
      },
      "outputs": [],
      "source": [
        "# REQUIRED LIBRARIES\n",
        "# !pip install numpy keras"
      ]
    },
    {
      "cell_type": "code",
      "execution_count": 5,
      "id": "67b316f6",
      "metadata": {
        "colab": {
          "base_uri": "https://localhost:8080/"
        },
        "id": "67b316f6",
        "outputId": "beebbcd8-6d6a-425d-f837-1d25c068672c"
      },
      "outputs": [
        {
          "output_type": "stream",
          "name": "stdout",
          "text": [
            "Mounted at /content/gdrive\n",
            "/content/gdrive/MyDrive/TC3007C_Module2\n"
          ]
        }
      ],
      "source": [
        "# RUN ONLY FOR GOOGLE COLAB\n",
        "\n",
        "from google.colab import drive\n",
        "\n",
        "drive.mount(\"/content/gdrive\")  \n",
        "\n",
        "%cd \"/content/gdrive/MyDrive/TC3007C_Module2\""
      ]
    },
    {
      "cell_type": "code",
      "execution_count": 2,
      "id": "48982587-801d-4f0a-b625-6d6fbb1168ca",
      "metadata": {
        "id": "48982587-801d-4f0a-b625-6d6fbb1168ca"
      },
      "outputs": [],
      "source": [
        "# Importing the necessary libraries\n",
        "import numpy as np\n",
        "import tensorflow as tf\n",
        "import os, time\n",
        "\n",
        "from tensorflow.keras import datasets, layers, models\n",
        "import matplotlib.pyplot as plt"
      ]
    },
    {
      "cell_type": "code",
      "execution_count": null,
      "id": "4c86b2d2-52bd-4963-8856-eab0c1e0c4c5",
      "metadata": {
        "id": "4c86b2d2-52bd-4963-8856-eab0c1e0c4c5"
      },
      "outputs": [],
      "source": [
        "# Loading the datasets\n",
        "def load(f):\n",
        "    return np.load(f)['arr_0']\n",
        "\n",
        "# Directory to be scanned\n",
        "x_train = load('./data/original/k49-train-imgs.npz')\n",
        "x_test = load('./data/original/k49-test-imgs.npz')\n",
        "y_train = load('./data/original/k49-train-labels.npz')\n",
        "y_test = load('./data/original/k49-test-labels.npz')"
      ]
    },
    {
      "cell_type": "code",
      "execution_count": null,
      "id": "9c1717ca-2187-4321-bd70-2c08f2275e13",
      "metadata": {
        "id": "9c1717ca-2187-4321-bd70-2c08f2275e13",
        "outputId": "ced56af5-dc08-44fd-9beb-e71b281eaa1c"
      },
      "outputs": [
        {
          "data": {
            "text/plain": [
              "(232365, 28, 28)"
            ]
          },
          "execution_count": 4,
          "metadata": {},
          "output_type": "execute_result"
        }
      ],
      "source": [
        "x_train.shape"
      ]
    },
    {
      "cell_type": "markdown",
      "id": "892e0ad5-99cf-4700-bd77-ed245c9c8805",
      "metadata": {
        "id": "892e0ad5-99cf-4700-bd77-ed245c9c8805"
      },
      "source": [
        "---\n",
        "## **Transform**"
      ]
    },
    {
      "cell_type": "code",
      "execution_count": null,
      "id": "d7a3d0ec-3d7d-4a9e-9e8e-ffe8502e2bb1",
      "metadata": {
        "id": "d7a3d0ec-3d7d-4a9e-9e8e-ffe8502e2bb1",
        "outputId": "3a16a0ef-33d4-427a-eedd-709e8551d9aa"
      },
      "outputs": [
        {
          "data": {
            "text/plain": [
              "(232365, 784)"
            ]
          },
          "execution_count": 6,
          "metadata": {},
          "output_type": "execute_result"
        }
      ],
      "source": [
        "x_train.shape"
      ]
    },
    {
      "cell_type": "markdown",
      "id": "3f16e115-bc43-4181-b692-d827f6559e85",
      "metadata": {
        "id": "3f16e115-bc43-4181-b692-d827f6559e85"
      },
      "source": [
        "---\n",
        "## **Load**"
      ]
    },
    {
      "cell_type": "code",
      "execution_count": null,
      "id": "81cba9ce-3791-4061-b029-24458f4482a7",
      "metadata": {
        "id": "81cba9ce-3791-4061-b029-24458f4482a7"
      },
      "outputs": [],
      "source": [
        "np.save('./data/flattened/k49-train-imgs.npy', x_train)\n",
        "np.save('./data/flattened/k49-test-imgs.npy', x_test)\n",
        "np.save('./data/flattened/k49-train-labels.npy', y_train)\n",
        "np.save('./data/flattened/k49-test-labels.npy', y_test)"
      ]
    },
    {
      "cell_type": "markdown",
      "id": "1f8f6f13-b211-494d-871e-c94afa6f70a4",
      "metadata": {
        "id": "1f8f6f13-b211-494d-871e-c94afa6f70a4"
      },
      "source": [
        "---\n",
        "## **Model (deep neural network)**"
      ]
    },
    {
      "cell_type": "code",
      "source": [
        "# Loading the datasets\n",
        "def load(f):\n",
        "    return np.load(f)['arr_0']\n",
        "\n",
        "# Directory to be scanned\n",
        "x_train = load('./data/original/k49-train-imgs.npz')\n",
        "x_test = load('./data/original/k49-test-imgs.npz')\n",
        "y_train = load('./data/original/k49-train-labels.npz')\n",
        "y_test = load('./data/original/k49-test-labels.npz')\n",
        "class_names = np.recfromcsv('./data/k49_classmap.csv', delimiter=',', filling_values=np.nan, case_sensitive=True, deletechars='', replace_space=' ')"
      ],
      "metadata": {
        "id": "iY0w3x6wWRM2",
        "colab": {
          "base_uri": "https://localhost:8080/"
        },
        "outputId": "f4f99f88-6579-4470-920b-8fe9890bcb1f"
      },
      "id": "iY0w3x6wWRM2",
      "execution_count": 13,
      "outputs": [
        {
          "output_type": "stream",
          "name": "stderr",
          "text": [
            "/usr/local/lib/python3.7/dist-packages/numpy/lib/npyio.py:2407: VisibleDeprecationWarning: Reading unicode strings without specifying the encoding argument is deprecated. Set the encoding, use None for the system default.\n",
            "  output = genfromtxt(fname, **kwargs)\n"
          ]
        }
      ]
    },
    {
      "cell_type": "code",
      "source": [
        "import matplotlib as mpl\n",
        "mpl.font_manager.fontManager.addfont('NotoSansJP[wght].ttf')\n",
        "mpl.rc('font', family='Noto Sans JP')"
      ],
      "metadata": {
        "id": "pmEtEJkFqgbq"
      },
      "id": "pmEtEJkFqgbq",
      "execution_count": 31,
      "outputs": []
    },
    {
      "cell_type": "code",
      "source": [
        "plt.figure(figsize=(10,10))\n",
        "for i in range(25):\n",
        "    plt.subplot(5,5,i+1)\n",
        "    plt.xticks([])\n",
        "    plt.yticks([])\n",
        "    plt.grid(False)\n",
        "    plt.imshow(x_train[i])\n",
        "    # The CIFAR labels happen to be arrays, \n",
        "    # which is why you need the extra index\n",
        "    plt.xlabel(class_names[y_train[i]][2])\n",
        "plt.show()"
      ],
      "metadata": {
        "colab": {
          "base_uri": "https://localhost:8080/",
          "height": 591
        },
        "id": "8nTevbCbmXon",
        "outputId": "a50c4de0-1b0b-412f-ca3d-7bf1b425def8"
      },
      "id": "8nTevbCbmXon",
      "execution_count": 35,
      "outputs": [
        {
          "output_type": "display_data",
          "data": {
            "text/plain": [
              "<Figure size 720x720 with 25 Axes>"
            ],
            "image/png": "[encoded data removed]"
          },
          "metadata": {}
        }
      ]
    },
    {
      "cell_type": "code",
      "source": [
        "model = models.Sequential()\n",
        "model.add(layers.Conv2D(28, (3, 3), activation='relu', input_shape=(28, 28, 1)))\n",
        "model.add(layers.MaxPooling2D((2, 2)))\n",
        "model.add(layers.Conv2D(56, (3, 3), activation='relu'))\n",
        "model.add(layers.MaxPooling2D((2, 2)))\n",
        "model.add(layers.Conv2D(56, (3, 3), activation='relu'))\n",
        "model.add(layers.Flatten())\n",
        "model.add(layers.Dense(64, activation='relu'))\n",
        "model.add(layers.Dense(49))\n",
        "\n",
        "model.summary()"
      ],
      "metadata": {
        "colab": {
          "base_uri": "https://localhost:8080/"
        },
        "id": "Mn_-9gxtYTYw",
        "outputId": "6842ccec-79dd-4900-b1d1-a61cd627b0c7"
      },
      "id": "Mn_-9gxtYTYw",
      "execution_count": null,
      "outputs": [
        {
          "output_type": "stream",
          "name": "stdout",
          "text": [
            "Model: \"sequential_6\"\n",
            "_________________________________________________________________\n",
            " Layer (type)                Output Shape              Param #   \n",
            "=================================================================\n",
            " conv2d_15 (Conv2D)          (None, 26, 26, 28)        280       \n",
            "                                                                 \n",
            " max_pooling2d_9 (MaxPooling  (None, 13, 13, 28)       0         \n",
            " 2D)                                                             \n",
            "                                                                 \n",
            " conv2d_16 (Conv2D)          (None, 11, 11, 56)        14168     \n",
            "                                                                 \n",
            " max_pooling2d_10 (MaxPoolin  (None, 5, 5, 56)         0         \n",
            " g2D)                                                            \n",
            "                                                                 \n",
            " conv2d_17 (Conv2D)          (None, 3, 3, 56)          28280     \n",
            "                                                                 \n",
            " flatten_3 (Flatten)         (None, 504)               0         \n",
            "                                                                 \n",
            " dense_6 (Dense)             (None, 64)                32320     \n",
            "                                                                 \n",
            " dense_7 (Dense)             (None, 49)                3185      \n",
            "                                                                 \n",
            "=================================================================\n",
            "Total params: 78,233\n",
            "Trainable params: 78,233\n",
            "Non-trainable params: 0\n",
            "_________________________________________________________________\n"
          ]
        }
      ]
    },
    {
      "cell_type": "code",
      "source": [
        "model.compile(optimizer='adam',\n",
        "              loss=tf.keras.losses.SparseCategoricalCrossentropy(from_logits=True),\n",
        "              metrics=['accuracy'])\n",
        "\n",
        "history = model.fit(x_train, y_train, epochs=30, \n",
        "                    validation_data=(x_test, y_test))"
      ],
      "metadata": {
        "colab": {
          "base_uri": "https://localhost:8080/"
        },
        "id": "CIRF0PyIbPDz",
        "outputId": "7e2e33a6-8dd4-45d1-ed4a-decdd2abe767"
      },
      "id": "CIRF0PyIbPDz",
      "execution_count": null,
      "outputs": [
        {
          "output_type": "stream",
          "name": "stdout",
          "text": [
            "Epoch 1/30\n",
            "7262/7262 [==============================] - 28s 4ms/step - loss: 0.6761 - accuracy: 0.8223 - val_loss: 0.6299 - val_accuracy: 0.8407\n",
            "Epoch 2/30\n",
            "7262/7262 [==============================] - 28s 4ms/step - loss: 0.2966 - accuracy: 0.9175 - val_loss: 0.5769 - val_accuracy: 0.8492\n",
            "Epoch 3/30\n",
            "7262/7262 [==============================] - 28s 4ms/step - loss: 0.2421 - accuracy: 0.9325 - val_loss: 0.5113 - val_accuracy: 0.8752\n",
            "Epoch 4/30\n",
            "7262/7262 [==============================] - 28s 4ms/step - loss: 0.2137 - accuracy: 0.9396 - val_loss: 0.4624 - val_accuracy: 0.8819\n",
            "Epoch 5/30\n",
            "7262/7262 [==============================] - 28s 4ms/step - loss: 0.1981 - accuracy: 0.9437 - val_loss: 0.4841 - val_accuracy: 0.8854\n",
            "Epoch 6/30\n",
            "7262/7262 [==============================] - 28s 4ms/step - loss: 0.1874 - accuracy: 0.9469 - val_loss: 0.4878 - val_accuracy: 0.8862\n",
            "Epoch 7/30\n",
            "7262/7262 [==============================] - 30s 4ms/step - loss: 0.1788 - accuracy: 0.9494 - val_loss: 0.4524 - val_accuracy: 0.8934\n",
            "Epoch 8/30\n",
            "7262/7262 [==============================] - 29s 4ms/step - loss: 0.1716 - accuracy: 0.9508 - val_loss: 0.5327 - val_accuracy: 0.8889\n",
            "Epoch 9/30\n",
            "7262/7262 [==============================] - 28s 4ms/step - loss: 0.1671 - accuracy: 0.9520 - val_loss: 0.5311 - val_accuracy: 0.8864\n",
            "Epoch 10/30\n",
            "7262/7262 [==============================] - 28s 4ms/step - loss: 0.1628 - accuracy: 0.9534 - val_loss: 0.4978 - val_accuracy: 0.8855\n",
            "Epoch 11/30\n",
            "7262/7262 [==============================] - 27s 4ms/step - loss: 0.1598 - accuracy: 0.9540 - val_loss: 0.4896 - val_accuracy: 0.8922\n",
            "Epoch 12/30\n",
            "7262/7262 [==============================] - 27s 4ms/step - loss: 0.1568 - accuracy: 0.9550 - val_loss: 0.5038 - val_accuracy: 0.8932\n",
            "Epoch 13/30\n",
            "7262/7262 [==============================] - 28s 4ms/step - loss: 0.1552 - accuracy: 0.9551 - val_loss: 0.4955 - val_accuracy: 0.8943\n",
            "Epoch 14/30\n",
            "7262/7262 [==============================] - 28s 4ms/step - loss: 0.1516 - accuracy: 0.9564 - val_loss: 0.4946 - val_accuracy: 0.8991\n",
            "Epoch 15/30\n",
            "7262/7262 [==============================] - 28s 4ms/step - loss: 0.1511 - accuracy: 0.9569 - val_loss: 0.5486 - val_accuracy: 0.8941\n",
            "Epoch 16/30\n",
            "7262/7262 [==============================] - 30s 4ms/step - loss: 0.1496 - accuracy: 0.9575 - val_loss: 0.5226 - val_accuracy: 0.8958\n",
            "Epoch 17/30\n",
            "7262/7262 [==============================] - 27s 4ms/step - loss: 0.1472 - accuracy: 0.9578 - val_loss: 0.5917 - val_accuracy: 0.8893\n",
            "Epoch 18/30\n",
            "7262/7262 [==============================] - 27s 4ms/step - loss: 0.1476 - accuracy: 0.9576 - val_loss: 0.5629 - val_accuracy: 0.8906\n",
            "Epoch 19/30\n",
            "7262/7262 [==============================] - 28s 4ms/step - loss: 0.1454 - accuracy: 0.9589 - val_loss: 0.5416 - val_accuracy: 0.8933\n",
            "Epoch 20/30\n",
            "7262/7262 [==============================] - 28s 4ms/step - loss: 0.1450 - accuracy: 0.9588 - val_loss: 0.5676 - val_accuracy: 0.8942\n",
            "Epoch 21/30\n",
            "7262/7262 [==============================] - 28s 4ms/step - loss: 0.1441 - accuracy: 0.9589 - val_loss: 0.5302 - val_accuracy: 0.8963\n",
            "Epoch 22/30\n",
            "7262/7262 [==============================] - 28s 4ms/step - loss: 0.1433 - accuracy: 0.9594 - val_loss: 0.5658 - val_accuracy: 0.8903\n",
            "Epoch 23/30\n",
            "7262/7262 [==============================] - 28s 4ms/step - loss: 0.1512 - accuracy: 0.9569 - val_loss: 0.5378 - val_accuracy: 0.8963\n",
            "Epoch 24/30\n",
            "7262/7262 [==============================] - 30s 4ms/step - loss: 0.1514 - accuracy: 0.9565 - val_loss: 0.5961 - val_accuracy: 0.8873\n",
            "Epoch 25/30\n",
            "7262/7262 [==============================] - 28s 4ms/step - loss: 0.1456 - accuracy: 0.9587 - val_loss: 0.5883 - val_accuracy: 0.8893\n",
            "Epoch 26/30\n",
            "7262/7262 [==============================] - 28s 4ms/step - loss: 0.1439 - accuracy: 0.9588 - val_loss: 0.5537 - val_accuracy: 0.8925\n",
            "Epoch 27/30\n",
            "7262/7262 [==============================] - 28s 4ms/step - loss: 0.1397 - accuracy: 0.9602 - val_loss: 0.6039 - val_accuracy: 0.8817\n",
            "Epoch 28/30\n",
            "7262/7262 [==============================] - 28s 4ms/step - loss: 0.1394 - accuracy: 0.9605 - val_loss: 0.5637 - val_accuracy: 0.8981\n",
            "Epoch 29/30\n",
            "7262/7262 [==============================] - 28s 4ms/step - loss: 0.1404 - accuracy: 0.9599 - val_loss: 0.5814 - val_accuracy: 0.8903\n",
            "Epoch 30/30\n",
            "7262/7262 [==============================] - 28s 4ms/step - loss: 0.1382 - accuracy: 0.9607 - val_loss: 0.5557 - val_accuracy: 0.8949\n"
          ]
        }
      ]
    },
    {
      "cell_type": "code",
      "source": [
        "plt.plot(history.history['accuracy'], label='accuracy')\n",
        "plt.plot(history.history['val_accuracy'], label = 'val_accuracy')\n",
        "plt.xlabel('Epoch')\n",
        "plt.ylabel('Accuracy')\n",
        "plt.ylim([0.5, 1])\n",
        "plt.legend(loc='lower right')\n",
        "\n",
        "test_loss, test_acc = model.evaluate(x_test, y_test, verbose=2)\n",
        "print(test_acc)"
      ],
      "metadata": {
        "colab": {
          "base_uri": "https://localhost:8080/",
          "height": 318
        },
        "id": "YN-5UejScBb4",
        "outputId": "c03f5f32-4bac-42ad-eddd-8a4481199a59"
      },
      "id": "YN-5UejScBb4",
      "execution_count": null,
      "outputs": [
        {
          "output_type": "stream",
          "name": "stdout",
          "text": [
            "1205/1205 - 6s - loss: 0.5557 - accuracy: 0.8949 - 6s/epoch - 5ms/step\n",
            "0.8949334621429443\n"
          ]
        },
        {
          "output_type": "display_data",
          "data": {
            "text/plain": [
              "<Figure size 432x288 with 1 Axes>"
            ],
            "image/png": "[encoded data removed]"
          },
          "metadata": {
            "needs_background": "light"
          }
        }
      ]
    },
    {
      "cell_type": "code",
      "source": [
        "improved_model = models.Sequential()\n",
        "improved_model.add(layers.Conv2D(64, (3, 3), activation='relu', input_shape=(28, 28, 1)))\n",
        "improved_model.add(layers.MaxPooling2D((2, 2)))\n",
        "improved_model.add(layers.Conv2D(128, (3, 3), activation='relu'))\n",
        "improved_model.add(layers.LeakyReLU())\n",
        "improved_model.add(layers.Dropout(0.3))\n",
        "improved_model.add(layers.MaxPooling2D((2, 2)))\n",
        "improved_model.add(layers.Conv2D(128, (3, 3), activation='relu'))\n",
        "improved_model.add(layers.LeakyReLU())\n",
        "improved_model.add(layers.Dropout(0.3))\n",
        "improved_model.add(layers.Flatten())\n",
        "improved_model.add(layers.Dense(64, activation='relu'))\n",
        "improved_model.add(layers.Dense(49))\n",
        "\n",
        "improved_model.summary()"
      ],
      "metadata": {
        "colab": {
          "base_uri": "https://localhost:8080/"
        },
        "id": "JkEmYCXZx1WS",
        "outputId": "15f96f56-75cb-4a29-d754-7562e8c21a02"
      },
      "id": "JkEmYCXZx1WS",
      "execution_count": null,
      "outputs": [
        {
          "output_type": "stream",
          "name": "stdout",
          "text": [
            "Model: \"sequential_20\"\n",
            "_________________________________________________________________\n",
            " Layer (type)                Output Shape              Param #   \n",
            "=================================================================\n",
            " conv2d_47 (Conv2D)          (None, 26, 26, 64)        640       \n",
            "                                                                 \n",
            " max_pooling2d_29 (MaxPoolin  (None, 13, 13, 64)       0         \n",
            " g2D)                                                            \n",
            "                                                                 \n",
            " conv2d_48 (Conv2D)          (None, 11, 11, 128)       73856     \n",
            "                                                                 \n",
            " leaky_re_lu_7 (LeakyReLU)   (None, 11, 11, 128)       0         \n",
            "                                                                 \n",
            " dropout_13 (Dropout)        (None, 11, 11, 128)       0         \n",
            "                                                                 \n",
            " max_pooling2d_30 (MaxPoolin  (None, 5, 5, 128)        0         \n",
            " g2D)                                                            \n",
            "                                                                 \n",
            " conv2d_49 (Conv2D)          (None, 3, 3, 128)         147584    \n",
            "                                                                 \n",
            " leaky_re_lu_8 (LeakyReLU)   (None, 3, 3, 128)         0         \n",
            "                                                                 \n",
            " dropout_14 (Dropout)        (None, 3, 3, 128)         0         \n",
            "                                                                 \n",
            " flatten_14 (Flatten)        (None, 1152)              0         \n",
            "                                                                 \n",
            " dense_28 (Dense)            (None, 64)                73792     \n",
            "                                                                 \n",
            " dense_29 (Dense)            (None, 49)                3185      \n",
            "                                                                 \n",
            "=================================================================\n",
            "Total params: 299,057\n",
            "Trainable params: 299,057\n",
            "Non-trainable params: 0\n",
            "_________________________________________________________________\n"
          ]
        }
      ]
    },
    {
      "cell_type": "code",
      "source": [
        "improved_model.compile(optimizer='adam',\n",
        "              loss=tf.keras.losses.SparseCategoricalCrossentropy(from_logits=True),\n",
        "              metrics=['accuracy'])\n",
        "\n",
        "history = improved_model.fit(x_train, y_train, epochs=30, \n",
        "                    validation_data=(x_test, y_test))"
      ],
      "metadata": {
        "colab": {
          "base_uri": "https://localhost:8080/"
        },
        "id": "dCyuSO6r10oz",
        "outputId": "37b1901a-6a45-471f-f895-a88e904df150"
      },
      "id": "dCyuSO6r10oz",
      "execution_count": null,
      "outputs": [
        {
          "output_type": "stream",
          "name": "stdout",
          "text": [
            "Epoch 1/30\n",
            "7262/7262 [==============================] - 33s 4ms/step - loss: 0.8029 - accuracy: 0.7906 - val_loss: 0.5646 - val_accuracy: 0.8503\n",
            "Epoch 2/30\n",
            "7262/7262 [==============================] - 34s 5ms/step - loss: 0.3637 - accuracy: 0.8987 - val_loss: 0.4418 - val_accuracy: 0.8828\n",
            "Epoch 3/30\n",
            "7262/7262 [==============================] - 32s 4ms/step - loss: 0.3110 - accuracy: 0.9136 - val_loss: 0.4307 - val_accuracy: 0.8852\n",
            "Epoch 4/30\n",
            "7262/7262 [==============================] - 32s 4ms/step - loss: 0.2853 - accuracy: 0.9205 - val_loss: 0.3730 - val_accuracy: 0.9029\n",
            "Epoch 5/30\n",
            "7262/7262 [==============================] - 32s 4ms/step - loss: 0.2704 - accuracy: 0.9250 - val_loss: 0.3767 - val_accuracy: 0.9011\n",
            "Epoch 6/30\n",
            "7262/7262 [==============================] - 36s 5ms/step - loss: 0.2601 - accuracy: 0.9274 - val_loss: 0.3671 - val_accuracy: 0.9039\n",
            "Epoch 7/30\n",
            "7262/7262 [==============================] - 32s 4ms/step - loss: 0.2540 - accuracy: 0.9297 - val_loss: 0.3781 - val_accuracy: 0.9022\n",
            "Epoch 8/30\n",
            "7262/7262 [==============================] - 34s 5ms/step - loss: 0.2469 - accuracy: 0.9314 - val_loss: 0.3616 - val_accuracy: 0.9076\n",
            "Epoch 9/30\n",
            "7262/7262 [==============================] - 35s 5ms/step - loss: 0.2444 - accuracy: 0.9322 - val_loss: 0.3468 - val_accuracy: 0.9108\n",
            "Epoch 10/30\n",
            "7262/7262 [==============================] - 32s 4ms/step - loss: 0.2404 - accuracy: 0.9336 - val_loss: 0.3523 - val_accuracy: 0.9077\n",
            "Epoch 11/30\n",
            "7262/7262 [==============================] - 32s 4ms/step - loss: 0.2367 - accuracy: 0.9344 - val_loss: 0.3682 - val_accuracy: 0.9066\n",
            "Epoch 12/30\n",
            "7262/7262 [==============================] - 32s 4ms/step - loss: 0.2362 - accuracy: 0.9349 - val_loss: 0.3355 - val_accuracy: 0.9134\n",
            "Epoch 13/30\n",
            "7262/7262 [==============================] - 34s 5ms/step - loss: 0.2357 - accuracy: 0.9348 - val_loss: 0.3421 - val_accuracy: 0.9139\n",
            "Epoch 14/30\n",
            "7262/7262 [==============================] - 33s 4ms/step - loss: 0.2313 - accuracy: 0.9355 - val_loss: 0.3479 - val_accuracy: 0.9116\n",
            "Epoch 15/30\n",
            "7262/7262 [==============================] - 31s 4ms/step - loss: 0.2344 - accuracy: 0.9349 - val_loss: 0.3488 - val_accuracy: 0.9114\n",
            "Epoch 16/30\n",
            "7262/7262 [==============================] - 31s 4ms/step - loss: 0.2297 - accuracy: 0.9362 - val_loss: 0.3462 - val_accuracy: 0.9105\n",
            "Epoch 17/30\n",
            "7262/7262 [==============================] - 32s 4ms/step - loss: 0.2299 - accuracy: 0.9364 - val_loss: 0.3496 - val_accuracy: 0.9117\n",
            "Epoch 18/30\n",
            "7262/7262 [==============================] - 32s 4ms/step - loss: 0.2299 - accuracy: 0.9365 - val_loss: 0.3560 - val_accuracy: 0.9103\n",
            "Epoch 19/30\n",
            "7262/7262 [==============================] - 32s 4ms/step - loss: 0.2257 - accuracy: 0.9374 - val_loss: 0.3499 - val_accuracy: 0.9113\n",
            "Epoch 20/30\n",
            "7262/7262 [==============================] - 34s 5ms/step - loss: 0.2279 - accuracy: 0.9377 - val_loss: 0.3405 - val_accuracy: 0.9142\n",
            "Epoch 21/30\n",
            "7262/7262 [==============================] - 34s 5ms/step - loss: 0.2220 - accuracy: 0.9383 - val_loss: 0.3511 - val_accuracy: 0.9124\n",
            "Epoch 22/30\n",
            "7262/7262 [==============================] - 34s 5ms/step - loss: 0.2218 - accuracy: 0.9388 - val_loss: 0.3430 - val_accuracy: 0.9148\n",
            "Epoch 23/30\n",
            "7262/7262 [==============================] - 32s 4ms/step - loss: 0.2222 - accuracy: 0.9387 - val_loss: 0.3396 - val_accuracy: 0.9161\n",
            "Epoch 24/30\n",
            "7262/7262 [==============================] - 34s 5ms/step - loss: 0.2219 - accuracy: 0.9388 - val_loss: 0.3407 - val_accuracy: 0.9141\n",
            "Epoch 25/30\n",
            "7262/7262 [==============================] - 34s 5ms/step - loss: 0.2230 - accuracy: 0.9389 - val_loss: 0.3558 - val_accuracy: 0.9127\n",
            "Epoch 26/30\n",
            "7262/7262 [==============================] - 34s 5ms/step - loss: 0.2215 - accuracy: 0.9395 - val_loss: 0.3446 - val_accuracy: 0.9126\n",
            "Epoch 27/30\n",
            "7262/7262 [==============================] - 31s 4ms/step - loss: 0.2172 - accuracy: 0.9401 - val_loss: 0.3303 - val_accuracy: 0.9176\n",
            "Epoch 28/30\n",
            "7262/7262 [==============================] - 34s 5ms/step - loss: 0.2205 - accuracy: 0.9394 - val_loss: 0.3591 - val_accuracy: 0.9076\n",
            "Epoch 29/30\n",
            "7262/7262 [==============================] - 31s 4ms/step - loss: 0.2198 - accuracy: 0.9400 - val_loss: 0.3382 - val_accuracy: 0.9184\n",
            "Epoch 30/30\n",
            "7262/7262 [==============================] - 31s 4ms/step - loss: 0.2189 - accuracy: 0.9395 - val_loss: 0.3504 - val_accuracy: 0.9160\n"
          ]
        }
      ]
    },
    {
      "cell_type": "code",
      "source": [
        "plt.plot(history.history['accuracy'], label='accuracy')\n",
        "plt.plot(history.history['val_accuracy'], label = 'val_accuracy')\n",
        "plt.xlabel('Epoch')\n",
        "plt.ylabel('Accuracy')\n",
        "plt.ylim([0.5, 1])\n",
        "plt.legend(loc='lower right')\n",
        "\n",
        "test_loss, test_acc = improved_model.evaluate(x_test, y_test, verbose=2)\n",
        "print(test_acc)"
      ],
      "metadata": {
        "colab": {
          "base_uri": "https://localhost:8080/",
          "height": 318
        },
        "id": "rdcNBKaW2KXV",
        "outputId": "7c43038d-bc1b-4e9d-8108-050a0e6c9073"
      },
      "id": "rdcNBKaW2KXV",
      "execution_count": null,
      "outputs": [
        {
          "output_type": "stream",
          "name": "stdout",
          "text": [
            "1205/1205 - 3s - loss: 0.3504 - accuracy: 0.9160 - 3s/epoch - 2ms/step\n",
            "0.9159727096557617\n"
          ]
        },
        {
          "output_type": "display_data",
          "data": {
            "text/plain": [
              "<Figure size 432x288 with 1 Axes>"
            ],
            "image/png": "[encoded data removed]"
          },
          "metadata": {
            "needs_background": "light"
          }
        }
      ]
    },
    {
      "cell_type": "code",
      "source": [],
      "metadata": {
        "id": "57LAqdr76e8C"
      },
      "id": "57LAqdr76e8C",
      "execution_count": null,
      "outputs": []
    }
  ],
  "metadata": {
    "kernelspec": {
      "display_name": "Python 3.10.4 ('Statistics')",
      "language": "python",
      "name": "python3"
    },
    "language_info": {
      "codemirror_mode": {
        "name": "ipython",
        "version": 3
      },
      "file_extension": ".py",
      "mimetype": "text/x-python",
      "name": "python",
      "nbconvert_exporter": "python",
      "pygments_lexer": "ipython3",
      "version": "3.10.4"
    },
    "vscode": {
      "interpreter": {
        "hash": "1365f7312f0ac659adc64cf9ad70f48f473b7d9bf5c210bebce62c7e15bdcca9"
      }
    },
    "colab": {
      "provenance": []
    },
    "accelerator": "GPU",
    "gpuClass": "standard"
  },
  "nbformat": 4,
  "nbformat_minor": 5
}